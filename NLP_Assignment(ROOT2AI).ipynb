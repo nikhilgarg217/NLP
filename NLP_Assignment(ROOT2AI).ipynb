{
 "cells": [
  {
   "cell_type": "markdown",
   "id": "large-evolution",
   "metadata": {},
   "source": [
    "# Reading a Dataset"
   ]
  },
  {
   "cell_type": "code",
   "execution_count": 14,
   "id": "sought-footage",
   "metadata": {},
   "outputs": [
    {
     "data": {
      "text/html": [
       "<div>\n",
       "<style scoped>\n",
       "    .dataframe tbody tr th:only-of-type {\n",
       "        vertical-align: middle;\n",
       "    }\n",
       "\n",
       "    .dataframe tbody tr th {\n",
       "        vertical-align: top;\n",
       "    }\n",
       "\n",
       "    .dataframe thead th {\n",
       "        text-align: right;\n",
       "    }\n",
       "</style>\n",
       "<table border=\"1\" class=\"dataframe\">\n",
       "  <thead>\n",
       "    <tr style=\"text-align: right;\">\n",
       "      <th></th>\n",
       "      <th>Text</th>\n",
       "      <th>Target</th>\n",
       "    </tr>\n",
       "  </thead>\n",
       "  <tbody>\n",
       "    <tr>\n",
       "      <th>0</th>\n",
       "      <td>reserve bank forming expert committee based in...</td>\n",
       "      <td>Blockchain</td>\n",
       "    </tr>\n",
       "    <tr>\n",
       "      <th>1</th>\n",
       "      <td>director could play role financial system</td>\n",
       "      <td>Blockchain</td>\n",
       "    </tr>\n",
       "    <tr>\n",
       "      <th>2</th>\n",
       "      <td>preliminary discuss secure transaction study r...</td>\n",
       "      <td>Blockchain</td>\n",
       "    </tr>\n",
       "    <tr>\n",
       "      <th>3</th>\n",
       "      <td>security indeed prove essential transforming f...</td>\n",
       "      <td>Blockchain</td>\n",
       "    </tr>\n",
       "    <tr>\n",
       "      <th>4</th>\n",
       "      <td>bank settlement normally take three days based...</td>\n",
       "      <td>Blockchain</td>\n",
       "    </tr>\n",
       "  </tbody>\n",
       "</table>\n",
       "</div>"
      ],
      "text/plain": [
       "                                                Text      Target\n",
       "0  reserve bank forming expert committee based in...  Blockchain\n",
       "1          director could play role financial system  Blockchain\n",
       "2  preliminary discuss secure transaction study r...  Blockchain\n",
       "3  security indeed prove essential transforming f...  Blockchain\n",
       "4  bank settlement normally take three days based...  Blockchain"
      ]
     },
     "execution_count": 14,
     "metadata": {},
     "output_type": "execute_result"
    }
   ],
   "source": [
    "# Perform imports and load the dataset:\n",
    "import numpy as np\n",
    "import pandas as pd\n",
    "import seaborn as sns\n",
    "\n",
    "df = pd.read_csv('Data.csv')\n",
    "df.head()"
   ]
  },
  {
   "cell_type": "markdown",
   "id": "sitting-postage",
   "metadata": {},
   "source": [
    "# Data Pre-Processing"
   ]
  },
  {
   "cell_type": "code",
   "execution_count": 15,
   "id": "hungry-strain",
   "metadata": {},
   "outputs": [
    {
     "data": {
      "text/plain": [
       "Text      3\n",
       "Target    0\n",
       "dtype: int64"
      ]
     },
     "execution_count": 15,
     "metadata": {},
     "output_type": "execute_result"
    }
   ],
   "source": [
    "#check for null values\n",
    "df.isnull().sum()"
   ]
  },
  {
   "cell_type": "code",
   "execution_count": 16,
   "id": "supposed-harvard",
   "metadata": {},
   "outputs": [],
   "source": [
    "# drop nan values\n",
    "df=df.dropna()"
   ]
  },
  {
   "cell_type": "code",
   "execution_count": 17,
   "id": "corporate-clear",
   "metadata": {},
   "outputs": [
    {
     "data": {
      "text/plain": [
       "Text      0\n",
       "Target    0\n",
       "dtype: int64"
      ]
     },
     "execution_count": 17,
     "metadata": {},
     "output_type": "execute_result"
    }
   ],
   "source": [
    "df.isnull().sum()"
   ]
  },
  {
   "cell_type": "code",
   "execution_count": 18,
   "id": "regulated-fusion",
   "metadata": {},
   "outputs": [
    {
     "data": {
      "text/plain": [
       "FinTech             8551\n",
       "Cyber Security      2640\n",
       "Bigdata             2267\n",
       "Reg Tech            2206\n",
       "credit reporting    1748\n",
       "Blockchain          1375\n",
       "Neobanks            1069\n",
       "Microservices        974\n",
       "Stock Trading        787\n",
       "Robo Advising        737\n",
       "Data Security        347\n",
       "Name: Target, dtype: int64"
      ]
     },
     "execution_count": 18,
     "metadata": {},
     "output_type": "execute_result"
    }
   ],
   "source": [
    "#Total classes\n",
    "df['Target'].value_counts()"
   ]
  },
  {
   "cell_type": "code",
   "execution_count": 161,
   "id": "antique-advocate",
   "metadata": {},
   "outputs": [],
   "source": [
    "# splitting the data into train and test\n",
    "from sklearn.model_selection import train_test_split\n",
    "\n",
    "X = df['Text']  # this time we want to look at the text\n",
    "y = df['Target']\n",
    "\n",
    "X_train, X_test, y_train, y_test = train_test_split(X, y, test_size=0.3, random_state=32)"
   ]
  },
  {
   "cell_type": "markdown",
   "id": "future-cooperation",
   "metadata": {},
   "source": [
    "# Build a Pipeline of Tfidfvectorizer and LinearSVC classifier model"
   ]
  },
  {
   "cell_type": "code",
   "execution_count": 162,
   "id": "parental-night",
   "metadata": {},
   "outputs": [
    {
     "data": {
      "text/plain": [
       "Pipeline(steps=[('tfidf',\n",
       "                 TfidfVectorizer(ngram_range=(1, 2), stop_words={'english'})),\n",
       "                ('clf', LinearSVC())])"
      ]
     },
     "execution_count": 162,
     "metadata": {},
     "output_type": "execute_result"
    }
   ],
   "source": [
    "from sklearn.feature_extraction.text import TfidfVectorizer\n",
    "from sklearn.svm import LinearSVC\n",
    "from sklearn.pipeline import Pipeline\n",
    "\n",
    "text_clf = Pipeline([('tfidf', TfidfVectorizer(ngram_range=(1,2),stop_words={'english'})),\n",
    "                     ('clf', LinearSVC(penalty='l2')),\n",
    "])\n",
    "\n",
    "# Feed the training data through the pipeline\n",
    "text_clf.fit(X_train, y_train)  "
   ]
  },
  {
   "cell_type": "code",
   "execution_count": 163,
   "id": "adaptive-toolbox",
   "metadata": {},
   "outputs": [],
   "source": [
    "# Form a prediction train set\n",
    "predict_train = text_clf.predict(X_train)"
   ]
  },
  {
   "cell_type": "code",
   "execution_count": 164,
   "id": "sealed-webmaster",
   "metadata": {},
   "outputs": [
    {
     "data": {
      "text/plain": [
       "<AxesSubplot:>"
      ]
     },
     "execution_count": 164,
     "metadata": {},
     "output_type": "execute_result"
    },
    {
     "data": {
      "image/png": "[encoded data removed]",
      "text/plain": [
       "<Figure size 432x288 with 2 Axes>"
      ]
     },
     "metadata": {
      "needs_background": "light"
     },
     "output_type": "display_data"
    }
   ],
   "source": [
    "# confusion matrix\n",
    "from sklearn.metrics import classification_report, confusion_matrix\n",
    "cm = confusion_matrix(y_train, predict_train)\n",
    "sns.heatmap(cm, annot=True, fmt=\"d\")"
   ]
  },
  {
   "cell_type": "code",
   "execution_count": 165,
   "id": "dramatic-princess",
   "metadata": {},
   "outputs": [
    {
     "name": "stdout",
     "output_type": "stream",
     "text": [
      "                  precision    recall  f1-score   support\n",
      "\n",
      "         Bigdata       0.99      0.99      0.99      1584\n",
      "      Blockchain       0.99      0.99      0.99       957\n",
      "  Cyber Security       0.99      0.98      0.98      1827\n",
      "   Data Security       1.00      0.99      1.00       239\n",
      "         FinTech       0.99      0.99      0.99      5941\n",
      "   Microservices       1.00      0.99      0.99       697\n",
      "        Neobanks       0.99      0.98      0.98       766\n",
      "        Reg Tech       1.00      0.99      0.99      1545\n",
      "   Robo Advising       1.00      0.98      0.99       551\n",
      "   Stock Trading       1.00      0.99      1.00       556\n",
      "credit reporting       0.99      0.99      0.99      1227\n",
      "\n",
      "        accuracy                           0.99     15890\n",
      "       macro avg       0.99      0.99      0.99     15890\n",
      "    weighted avg       0.99      0.99      0.99     15890\n",
      "\n"
     ]
    }
   ],
   "source": [
    "# Classification Report for train set\n",
    "from sklearn.metrics import classification_report\n",
    "print(classification_report(y_train, predict_train))"
   ]
  },
  {
   "cell_type": "code",
   "execution_count": 166,
   "id": "greenhouse-satin",
   "metadata": {},
   "outputs": [],
   "source": [
    "# Form a prediction set\n",
    "predictions = text_clf.predict(X_test)"
   ]
  },
  {
   "cell_type": "code",
   "execution_count": 167,
   "id": "based-transport",
   "metadata": {},
   "outputs": [
    {
     "data": {
      "text/plain": [
       "<AxesSubplot:>"
      ]
     },
     "execution_count": 167,
     "metadata": {},
     "output_type": "execute_result"
    },
    {
     "data": {
      "image/png": "[encoded data removed]",
      "text/plain": [
       "<Figure size 432x288 with 2 Axes>"
      ]
     },
     "metadata": {
      "needs_background": "light"
     },
     "output_type": "display_data"
    }
   ],
   "source": [
    "# Classification Report for test set\n",
    "from sklearn.metrics import classification_report, confusion_matrix\n",
    "cm = confusion_matrix(y_test, predictions)\n",
    "sns.heatmap(cm, annot=True, fmt=\"d\")"
   ]
  },
  {
   "cell_type": "code",
   "execution_count": 168,
   "id": "dynamic-switch",
   "metadata": {},
   "outputs": [
    {
     "name": "stdout",
     "output_type": "stream",
     "text": [
      "                  precision    recall  f1-score   support\n",
      "\n",
      "         Bigdata       0.86      0.71      0.78       683\n",
      "      Blockchain       0.64      0.50      0.57       418\n",
      "  Cyber Security       0.67      0.59      0.63       813\n",
      "   Data Security       0.48      0.09      0.16       108\n",
      "         FinTech       0.65      0.86      0.74      2610\n",
      "   Microservices       0.73      0.57      0.64       277\n",
      "        Neobanks       0.63      0.37      0.47       303\n",
      "        Reg Tech       0.90      0.79      0.84       661\n",
      "   Robo Advising       0.57      0.39      0.46       186\n",
      "   Stock Trading       0.75      0.60      0.67       231\n",
      "credit reporting       0.74      0.64      0.69       521\n",
      "\n",
      "        accuracy                           0.70      6811\n",
      "       macro avg       0.69      0.56      0.60      6811\n",
      "    weighted avg       0.71      0.70      0.69      6811\n",
      "\n"
     ]
    }
   ],
   "source": [
    "from sklearn.metrics import classification_report\n",
    "print(classification_report(y_test, predictions))"
   ]
  },
  {
   "cell_type": "markdown",
   "id": "metropolitan-defendant",
   "metadata": {},
   "source": [
    "### Train_Accuracy is 99 %\n",
    "### Test_Accuracy is 70 %"
   ]
  }
 ],
 "metadata": {
  "kernelspec": {
   "display_name": "Python 3",
   "language": "python",
   "name": "python3"
  },
  "language_info": {
   "codemirror_mode": {
    "name": "ipython",
    "version": 3
   },
   "file_extension": ".py",
   "mimetype": "text/x-python",
   "name": "python",
   "nbconvert_exporter": "python",
   "pygments_lexer": "ipython3",
   "version": "3.7.10"
  }
 },
 "nbformat": 4,
 "nbformat_minor": 5
}
